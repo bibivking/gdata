{
 "cells": [
  {
   "cell_type": "code",
   "execution_count": 6,
   "metadata": {},
   "outputs": [],
   "source": [
    "import numpy as np\n",
    "import matplotlib.pyplot as plt"
   ]
  },
  {
   "cell_type": "code",
   "execution_count": 7,
   "metadata": {},
   "outputs": [],
   "source": [
    "sand_vec   = [0.8,0.8,0.8,0.8,0.7,0.63,0.67,0.67,0.67,0.67,0.67,0.67,0.4]\n",
    "silt_vec   = [0.09,0.09,0.09,0.09,0.04,0.12,0.13,0.13,0.13,0.13,0.13,0.13,0.15]\n",
    "clay_vec   = [0.11,0.11,0.11,0.11,0.26,0.25,0.20,0.2,0.2,0.2,0.2,0.2,0.45]\n",
    "org_vec    = [0.0102,0.0102,0.0102,0.0025,0.0025,0.0025,0.0025,0.0025,\\\n",
    "              0.0025,0.0025,0.0025,0.0025,0.0025]\n",
    "rhosoil_vec= [1654.962,1654.962,1654.962,1654.962,1777.5808,1952.94352,1969.7477,\\\n",
    "              1825.19628,2075.83018,1984.12624,1928.55192,1821.59631,1856.2751]\n",
    "\n",
    "hyds_vec = np.zeros(13)\n",
    "bch_vec  = np.zeros(13)\n",
    "sucs_vec = np.zeros(13)\n",
    "ssat_vec = np.zeros(13)\n",
    "watr     = np.zeros(13)\n",
    "swilt_vec= np.zeros(13)\n",
    "sfc_vec  = np.zeros(13)\n",
    "css_vec  = np.zeros(13)\n",
    "cnsd_vec = np.zeros(13)\n",
    "\n",
    "psi_tmp  = 2550000.0"
   ]
  },
  {
   "cell_type": "code",
   "execution_count": 8,
   "metadata": {},
   "outputs": [],
   "source": [
    "for i in np.arange(0,13,1):\n",
    "    hyds_vec[i] = (1.0-org_vec[i]) * 0.00706 * ( 10.0 ** (-0.60 + 1.26*sand_vec[i] - 0.64*clay_vec[i]) )\\\n",
    "                  + org_vec[i]*10**(-4)\n",
    "    bch_vec[i]  = (1.0-org_vec[i]) * ( 3.1 + 15.4*clay_vec[i] - 0.3*sand_vec[i]) + org_vec[i]*3.0\n",
    "    sucs_vec[i] = (1.0-org_vec[i]) * 10.0 * 10.0**( 1.54 - 0.95*sand_vec[i] + 0.63*silt_vec[i] ) \\\n",
    "                  + org_vec[i]*10.3\n",
    "    ssat_vec[i] = (1.0-org_vec[i]) * ( 0.505 - 0.142*sand_vec[i] - 0.037*clay_vec[i]) \\\n",
    "                  + org_vec[i]*0.6\n",
    "    watr[i]     = (1.0-org_vec[i]) * ( 0.02 + 0.018*clay_vec[i] ) + org_vec[i]*0.15\n",
    "    \n",
    "    sst_tmp  = 1.0 - max(min(ssat_vec[i], 0.85), 0.15)\n",
    "    \n",
    "    swilt_vec[i] = (ssat_vec[i] - watr[i]) * ( (psi_tmp/sucs_vec[i]) ** (-1.0/bch_vec[i]) ) \\\n",
    "                   + watr[i]\n",
    "    sfc_vec[i]   = (ssat_vec[i] - watr[i]) * ( 1.157407 * 10**(-6) / hyds_vec[i])** \\\n",
    "                   (1.0 / (2.0*bch_vec[i] + 3.0) ) + watr[i]\n",
    "    css_vec[i]   = (1.0-org_vec[i]) * ( 850*(1.0 - sand_vec[i] - clay_vec[i]) + \\\n",
    "                    865.0*clay_vec[i] + 750.0*sand_vec[i] ) + org_vec[i]*950.0\n",
    "    cnsd_vec[i]  = (1.0-org_vec[i]) * ( 0.135*sst_tmp + 0.0239/sst_tmp )  /  \\\n",
    "                   (1.0 - 0.947*sst_tmp) + org_vec[i]*0.05\n",
    "\n",
    "#hyds_vec   = hyds_vec\n",
    "#sucs_vec   = sucs_vec*(-1.0)/1000."
   ]
  },
  {
   "cell_type": "code",
   "execution_count": 9,
   "metadata": {},
   "outputs": [
    {
     "data": {
      "text/plain": [
       "array([0.01520482, 0.01520482, 0.01520482, 0.01532233, 0.00919029,\n",
       "       0.00761258, 0.009203  , 0.009203  , 0.009203  , 0.009203  ,\n",
       "       0.009203  , 0.009203  , 0.00290908])"
      ]
     },
     "execution_count": 9,
     "metadata": {},
     "output_type": "execute_result"
    }
   ],
   "source": [
    "hyds_vec"
   ]
  },
  {
   "cell_type": "code",
   "execution_count": null,
   "metadata": {},
   "outputs": [],
   "source": []
  },
  {
   "cell_type": "code",
   "execution_count": null,
   "metadata": {},
   "outputs": [],
   "source": []
  },
  {
   "cell_type": "code",
   "execution_count": null,
   "metadata": {},
   "outputs": [],
   "source": []
  }
 ],
 "metadata": {
  "kernelspec": {
   "display_name": "Python [conda env:science] *",
   "language": "python",
   "name": "conda-env-science-py"
  },
  "language_info": {
   "codemirror_mode": {
    "name": "ipython",
    "version": 3
   },
   "file_extension": ".py",
   "mimetype": "text/x-python",
   "name": "python",
   "nbconvert_exporter": "python",
   "pygments_lexer": "ipython3",
   "version": "3.7.3"
  }
 },
 "nbformat": 4,
 "nbformat_minor": 2
}
