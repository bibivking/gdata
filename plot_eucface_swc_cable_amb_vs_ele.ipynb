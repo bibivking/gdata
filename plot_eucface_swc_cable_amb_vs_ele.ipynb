{
 "cells": [
  {
   "cell_type": "code",
   "execution_count": 10,
   "metadata": {},
   "outputs": [],
   "source": [
    "import os\n",
    "import sys\n",
    "import numpy as np\n",
    "import pandas as pd\n",
    "import matplotlib.pyplot as plt\n",
    "import matplotlib.colors\n",
    "from matplotlib import ticker\n",
    "import datetime as dt\n",
    "import netCDF4 as nc\n",
    "from scipy.interpolate import griddata"
   ]
  },
  {
   "cell_type": "code",
   "execution_count": 11,
   "metadata": {},
   "outputs": [],
   "source": [
    "famb = \"/short/w35/mm3972/cable/runs/EucFACE/EucFACE_run/outputs/gw_on/EucFACE_amb_out.nc\"\n",
    "fele = \"/short/w35/mm3972/cable/runs/EucFACE/EucFACE_run/outputs/gw_on/EucFACE_ele_out.nc\""
   ]
  },
  {
   "cell_type": "code",
   "execution_count": 12,
   "metadata": {},
   "outputs": [],
   "source": [
    "# Interpolate\n",
    "date_start_cable = pd.datetime(2013,1,1) - pd.datetime(2011,12,31)\n",
    "date_end_cable   = pd.datetime(2019,5,11) - pd.datetime(2011,12,31)\n",
    "date_start_cable = date_start_cable.days\n",
    "date_end_cable   = date_end_cable.days"
   ]
  },
  {
   "cell_type": "code",
   "execution_count": 28,
   "metadata": {},
   "outputs": [],
   "source": [
    "amb = nc.Dataset(famb, 'r')\n",
    "\n",
    "Time = nc.num2date(amb.variables['time'][:],amb.variables['time'].units)\n",
    "SoilMoist_amb = pd.DataFrame(amb.variables['SoilMoist'][:,:,0,0], columns=[1.,4.5,10.,19.5,41,71,101,131,161,191,221,273.5,386])\n",
    "SoilMoist_amb['dates'] = Time\n",
    "SoilMoist_amb = SoilMoist_amb.set_index('dates')\n",
    "SoilMoist_amb = SoilMoist_amb.resample(\"D\").agg('mean')\n",
    "SoilMoist_amb.index = SoilMoist_amb.index - pd.datetime(2011,12,31)\n",
    "SoilMoist_amb.index = SoilMoist_amb.index.days\n",
    "SoilMoist_amb = SoilMoist_amb.stack() # turn multi-columns into one-column\n",
    "SoilMoist_amb = SoilMoist_amb.reset_index() # remove index 'dates'\n",
    "SoilMoist_amb = SoilMoist_amb.rename(index=str, columns={\"level_1\": \"Depth\"})\n",
    "SoilMoist_amb = SoilMoist_amb.sort_values(by=['Depth','dates'])\n",
    "# rename columns level_1 to Depth\n",
    "#SoilMoist = SoilMoist.set_index('Depth')\n",
    "\n",
    "ntimes      = len(np.unique(SoilMoist_amb['dates']))\n",
    "dates       = np.unique(SoilMoist_amb['dates'].values)\n",
    "\n",
    "x_cable     = np.concatenate(( dates, SoilMoist_amb['dates'].values,dates)) # Time\n",
    "y_cable     = np.concatenate(([0]*ntimes,SoilMoist_amb['Depth'].values,[460]*ntimes))# Depth\n",
    "value_cable = np.concatenate(( SoilMoist_amb.iloc[:ntimes,2].values, \\\n",
    "                               SoilMoist_amb.iloc[:,2].values,         \\\n",
    "                               SoilMoist_amb.iloc[-(ntimes):,2].values ))\n",
    "value_cable = value_cable*100.\n",
    "# add the 12 depths to 0\n",
    "X_cable     = np.arange(date_start_cable,date_end_cable,1)\n",
    "Y_cable     = np.arange(0,465,5)\n",
    "grid_X_cable, grid_Y_cable = np.meshgrid(X_cable,Y_cable)\n",
    "\n",
    "# interpolate\n",
    "grid_amb = griddata((x_cable, y_cable) , value_cable, (grid_X_cable, grid_Y_cable),\\\n",
    "             method='cubic')"
   ]
  },
  {
   "cell_type": "code",
   "execution_count": 29,
   "metadata": {},
   "outputs": [
    {
     "data": {
      "text/plain": [
       "(0.5, 2320.5, 0.5, 92.5)"
      ]
     },
     "execution_count": 29,
     "metadata": {},
     "output_type": "execute_result"
    },
    {
     "data": {
      "image/png": "[encoded data removed]",
      "text/plain": [
       "<Figure size 1080x720 with 2 Axes>"
      ]
     },
     "metadata": {
      "needs_background": "light"
     },
     "output_type": "display_data"
    }
   ],
   "source": [
    "fig = plt.figure(figsize=[15,10])\n",
    "fig.subplots_adjust(hspace=0.1)\n",
    "fig.subplots_adjust(wspace=0.05)\n",
    "plt.rcParams['text.usetex'] = False\n",
    "plt.rcParams['font.family'] = \"sans-serif\"\n",
    "plt.rcParams['font.sans-serif'] = \"Helvetica\"\n",
    "plt.rcParams['axes.labelsize'] = 14\n",
    "plt.rcParams['font.size'] = 14\n",
    "plt.rcParams['legend.fontsize'] = 10\n",
    "plt.rcParams['xtick.labelsize'] = 14\n",
    "plt.rcParams['ytick.labelsize'] = 14\n",
    "\n",
    "almost_black = '#262626'\n",
    "# change the tick colors also to the almost black\n",
    "plt.rcParams['ytick.color'] = almost_black\n",
    "plt.rcParams['xtick.color'] = almost_black\n",
    "\n",
    "# change the text colors also to the almost black\n",
    "plt.rcParams['text.color'] = almost_black\n",
    "\n",
    "# Change the default axis colors from black to a slightly lighter black,\n",
    "# and a little thinner (0.5 instead of 1)\n",
    "plt.rcParams['axes.edgecolor'] = almost_black\n",
    "plt.rcParams['axes.labelcolor'] = almost_black\n",
    "\n",
    "ax1 = fig.add_subplot(311) \n",
    "\n",
    "cmap = plt.cm.viridis_r\n",
    "#######\n",
    "#plt.imshow(amb_mean, cmap=cmap, vmin=0, vmax=40, origin=\"upper\", interpolation='nearest')\n",
    "#plt.show()\n",
    "######\n",
    "#img = ax1.imshow(grid_data, cmap=cmap, vmin=0, vmax=40, origin=\"upper\", interpolation='nearest')\n",
    "#'spline16')#'nearest')\n",
    "levels = [-10,-5,0.,5,10,15,20,25,30,35,40,45,50]\n",
    "img = ax1.contourf(grid_amb, cmap=cmap, origin=\"upper\", levels=levels)\n",
    "cbar = fig.colorbar(img, orientation=\"vertical\", pad=0.1, shrink=.6) #\"horizontal\"\n",
    "cbar.set_label('VWC amb (%)')\n",
    "tick_locator = ticker.MaxNLocator(nbins=5)\n",
    "cbar.locator = tick_locator\n",
    "cbar.update_ticks()\n",
    "\n",
    "# every second tick\n",
    "ax1.set_yticks(np.arange(len(Y_cable))[::10])\n",
    "Y_labels = np.flipud(Y_cable)\n",
    "ax1.set_yticklabels(Y_labels[::10])\n",
    "plt.setp(ax1.get_xticklabels(), visible=False)\n",
    "\n",
    "ax1.set_ylabel(\"Depth (cm)\")\n",
    "ax1.axis('tight')\n"
   ]
  },
  {
   "cell_type": "code",
   "execution_count": 30,
   "metadata": {},
   "outputs": [],
   "source": [
    "ele = nc.Dataset(fele, 'r')\n",
    "\n",
    "Time = nc.num2date(ele.variables['time'][:],ele.variables['time'].units)\n",
    "SoilMoist_ele = pd.DataFrame(ele.variables['SoilMoist'][:,:,0,0], columns=[1.,4.5,10.,19.5,41,71,101,131,161,191,221,273.5,386])\n",
    "SoilMoist_ele['dates'] = Time\n",
    "SoilMoist_ele = SoilMoist_ele.set_index('dates')\n",
    "SoilMoist_ele = SoilMoist_ele.resample(\"D\").agg('mean')\n",
    "SoilMoist_ele.index = SoilMoist_ele.index - pd.datetime(2011,12,31)\n",
    "SoilMoist_ele.index = SoilMoist_ele.index.days\n",
    "SoilMoist_ele = SoilMoist_ele.stack() # turn multi-columns into one-column\n",
    "SoilMoist_ele = SoilMoist_ele.reset_index() # remove index 'dates'\n",
    "SoilMoist_ele = SoilMoist_ele.rename(index=str, columns={\"level_1\": \"Depth\"})\n",
    "SoilMoist_ele = SoilMoist_ele.sort_values(by=['Depth','dates'])\n",
    "\n",
    "value_cable = np.concatenate(( SoilMoist_ele.iloc[:ntimes,2].values, \\\n",
    "                               SoilMoist_ele.iloc[:,2].values,         \\\n",
    "                               SoilMoist_ele.iloc[-(ntimes):,2].values ))\n",
    "value_cable = value_cable*100.\n",
    "\n",
    "# interpolate\n",
    "grid_ele = griddata((x_cable, y_cable) , value_cable, (grid_X_cable, grid_Y_cable),\\\n",
    "             method='cubic')"
   ]
  },
  {
   "cell_type": "code",
   "execution_count": 31,
   "metadata": {},
   "outputs": [
    {
     "data": {
      "text/plain": [
       "(0.5, 2320.5, 0.5, 92.5)"
      ]
     },
     "execution_count": 31,
     "metadata": {},
     "output_type": "execute_result"
    }
   ],
   "source": [
    "ax2 = fig.add_subplot(312)\n",
    "\n",
    "#img2 = ax2.imshow(grid_cable, cmap=cmap, vmin=0, vmax=40, origin=\"upper\", interpolation='nearest')\n",
    "#'spline16')#'nearest')\n",
    "\n",
    "img2 = ax2.contourf(grid_ele, cmap=cmap, origin=\"upper\", levels=levels) # vmin=0, vmax=40, \n",
    "cbar2 = fig.colorbar(img2, orientation=\"vertical\", pad=0.1, shrink=.6)\n",
    "cbar2.set_label('VWC ele (%)')#('Volumetric soil water content (%)')\n",
    "tick_locator2 = ticker.MaxNLocator(nbins=5)\n",
    "cbar2.locator = tick_locator2\n",
    "cbar2.update_ticks()\n",
    "\n",
    "# every second tick\n",
    "ax2.set_yticks(np.arange(len(Y_cable))[::10])\n",
    "Y_labels2 = np.flipud(Y_cable)\n",
    "ax2.set_yticklabels(Y_labels2[::10])\n",
    "plt.setp(ax2.get_xticklabels(), visible=False)\n",
    "\n",
    "#ax2.set(xticks=xtickslocs2, xticklabels=cleaner_dates2)\n",
    "ax2.set_ylabel(\"Depth (cm)\")\n",
    "ax2.axis('tight')"
   ]
  },
  {
   "cell_type": "code",
   "execution_count": 32,
   "metadata": {},
   "outputs": [],
   "source": [
    "# ________________ plot difference _____________________\n",
    "ax3 = fig.add_subplot(313)\n",
    "difference = grid_ele -grid_amb\n",
    "\n",
    "cmap = plt.cm.BrBG\n",
    "\n",
    "#img3 = ax3.imshow(difference, cmap=cmap, vmin=-30, vmax=30, origin=\"upper\", interpolation='nearest')\n",
    "#'spline16')#'nearest')\n",
    "levels = [-50,-40,-30,-20,-10,-5,0,5,10,20,30,40,50]\n",
    "img3 = ax3.contourf(difference, cmap=cmap,origin=\"upper\", levels=levels)\n",
    "cbar3 = fig.colorbar(img3, orientation=\"vertical\", pad=0.1, shrink=.6)\n",
    "cbar3.set_label('ele - amb (%)')\n",
    "tick_locator3 = ticker.MaxNLocator(nbins=6)\n",
    "cbar3.locator = tick_locator3\n",
    "cbar3.update_ticks()\n",
    "\n",
    "# every second tick\n",
    "ax3.set_yticks(np.arange(len(Y_cable))[::10])\n",
    "Y_labels3 = np.flipud(Y_cable)\n",
    "ax3.set_yticklabels(Y_labels3[::10])\n",
    "\n",
    "ax3.set_xticks(np.arange(len(X_cable)))\n",
    "cleaner_dates3 = X_cable\n",
    "ax3.set_xticklabels(cleaner_dates3)\n",
    "\n",
    "cleaner_dates3 = [\"2014\",\"2015\",\"2016\",\"2017\",\"2018\",\"2019\"]\n",
    "              # [\"2013-01\",\"2014-01\",\"2015-01\",\"2016-01\",]\n",
    "xtickslocs3 = [365,730,1095,1461,1826,2191]\n",
    "\n",
    "ax3.set(xticks=xtickslocs3, xticklabels=cleaner_dates3)\n",
    "ax3.set_ylabel(\"Depth (cm)\")\n",
    "ax3.axis('tight')\n",
    "\n",
    "fig.savefig(\"EucFACE_SW_cable_gw_on_amb_vs_ele_contour.pdf\", bbox_inches='tight', pad_inches=0.1)"
   ]
  },
  {
   "cell_type": "code",
   "execution_count": null,
   "metadata": {},
   "outputs": [],
   "source": []
  },
  {
   "cell_type": "code",
   "execution_count": null,
   "metadata": {},
   "outputs": [],
   "source": []
  }
 ],
 "metadata": {
  "kernelspec": {
   "display_name": "Python [conda env:science] *",
   "language": "python",
   "name": "conda-env-science-py"
  },
  "language_info": {
   "codemirror_mode": {
    "name": "ipython",
    "version": 3
   },
   "file_extension": ".py",
   "mimetype": "text/x-python",
   "name": "python",
   "nbconvert_exporter": "python",
   "pygments_lexer": "ipython3",
   "version": "3.7.3"
  }
 },
 "nbformat": 4,
 "nbformat_minor": 2
}
